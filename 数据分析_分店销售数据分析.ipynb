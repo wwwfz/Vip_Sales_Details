{
 "cells": [
  {
   "cell_type": "code",
   "execution_count": 1,
   "metadata": {},
   "outputs": [],
   "source": [
    "import pandas as pd\n",
    "import numpy as np\n",
    "import os\n",
    "import pandas_profiling as pdp\n",
    "import matplotlib.pyplot as plt\n",
    "import seaborn as sns\n",
    "import warnings\n",
    "warnings.filterwarnings(\"ignore\")\n",
    "plt.rcParams['font.sans-serif']=['SimHei'] #用来正常显示中文标签\n",
    "plt.rcParams['axes.unicode_minus']=False #用来正常显示负号\n",
    "%matplotlib inline  "
   ]
  },
  {
   "cell_type": "code",
   "execution_count": 2,
   "metadata": {},
   "outputs": [],
   "source": [
    "# 画图函数\n",
    "def plot_line(dataframe_,columns_=['je'],legend_=['金额'],title_=''):\n",
    "    df_tmp = dataframe_.copy()\n",
    "    '''\n",
    "    dataframe_ : pandas的dataframe\n",
    "    columns_   : 需要画图的列，list格式\n",
    "    legend_    : 需要画图的列明，即图例，list格式\n",
    "    title_     ：图的名称，保存在本地需要此命名\n",
    "    '''\n",
    "    # 背景\n",
    "    #fig=plt.figure(figsize=(6.4,4.8), dpi=100)  # 多图\n",
    "    #ax = fig.add_subplot(111) # mnx，m行n列第x个\n",
    "    fig,ax=plt.subplots(figsize=(6.4,4.8), dpi=100)\n",
    "    # x轴\n",
    "    # xlab = pd.to_datetime(list(map(str,df_tmp.index)))    \n",
    "    xlab = range(df_tmp.shape[0])\n",
    "    # x轴旋转\n",
    "    #plt.xticks(rotation=320)\n",
    "    marker_ = [',','*','.','+','x',]\n",
    "    linestyle_ = ['-','-.']\n",
    "    # 画线\n",
    "    for i,j in enumerate(columns_):\n",
    "        ax.plot(xlab,df_tmp[j],linestyle=linestyle_[i],marker=marker_[0],markersize='5',label=legend_[i]) # lw=3,marker='.'\n",
    "    # 标题\n",
    "    plt.title(title_,fontsize=10)\n",
    "    plt.tick_params(labelsize=10,axis='both')  # 刻度的大小\n",
    "    #plt.legend(prop={'size':15},loc='best')  # 图例\n",
    "    plt.legend(prop={'size':15},loc='upper left')  # 图例\n",
    "    #显示网格\n",
    "    ax.grid(True, linestyle='-.')\n",
    "    #ax.yaxis.grid(True, linestyle='-.')\n",
    "    plt.margins(0,0)\n",
    "    fig.savefig(f'{title_}.png',bbox_inches = 'tight')\n",
    "    plt.show()"
   ]
  },
  {
   "cell_type": "code",
   "execution_count": 3,
   "metadata": {},
   "outputs": [],
   "source": [
    "# 绝对路径\n",
    "data_path = '...\\附件-数据分析题03_销售数据分析'\n",
    "# 相对路径\n",
    "# data_path = os.getcwd()"
   ]
  },
  {
   "cell_type": "markdown",
   "metadata": {},
   "source": [
    "#### 读取四个表的原始数据"
   ]
  },
  {
   "cell_type": "code",
   "execution_count": 4,
   "metadata": {},
   "outputs": [],
   "source": [
    "# 表1\n",
    "file_name = '附件1-会员信息表.csv'\n",
    "file_name = os.path.join(data_path,file_name)\n",
    "with open(file_name,'r',encoding='utf-8') as f:\n",
    "    raw_data_vip_info = pd.read_csv(f)\n",
    "# raw_data_vip_info.describe()\n",
    "# 表2\n",
    "file_name = '附件2-销售流水表.csv'\n",
    "file_name = os.path.join(data_path,file_name)\n",
    "with open(file_name,'r',encoding='utf-8') as f:\n",
    "    raw_data_sale_flow = pd.read_csv(f)\n",
    "# 表3\n",
    "file_name = '附件3-会员消费明细表.csv'\n",
    "file_name = os.path.join(data_path,file_name)\n",
    "with open(file_name,'r',encoding='gbk') as f:\n",
    "    raw_data_sale_detail_vip = pd.read_csv(f)\n",
    "# 表4\n",
    "file_name = '附件4-商品信息表.csv'\n",
    "file_name = os.path.join(data_path,file_name)\n",
    "with open(file_name,'r',encoding='gbk') as f:\n",
    "    raw_data_good_info = pd.read_csv(f)"
   ]
  },
  {
   "cell_type": "markdown",
   "metadata": {},
   "source": [
    "#### 生成数据统计报告并输出(运行需要一段时间，近10min)"
   ]
  },
  {
   "cell_type": "code",
   "execution_count": null,
   "metadata": {},
   "outputs": [],
   "source": [
    "# 生成数据统计报告\n",
    "data_report1 = pdp.ProfileReport(raw_data_good_info)\n",
    "data_report2 = pdp.ProfileReport(raw_data_sale_flow)\n",
    "data_report3 = pdp.ProfileReport(raw_data_sale_detail_vip)\n",
    "data_report4 = pdp.ProfileReport(raw_data_good_info)\n",
    "# 输出报告到相对路径\n",
    "data_report1.to_file(os.path.join(data_path,'data_report1.html'))\n",
    "data_report2.to_file(os.path.join(data_path,'data_report2.html'))\n",
    "data_report3.to_file(os.path.join(data_path,'data_report3.html'))\n",
    "data_report4.to_file(os.path.join(data_path,'data_report4.html'))"
   ]
  },
  {
   "cell_type": "markdown",
   "metadata": {},
   "source": [
    "## 解答问题"
   ]
  },
  {
   "cell_type": "markdown",
   "metadata": {},
   "source": [
    "### 问题1：请通过文字分析4张表的字段信息，指出可以得到哪些直接，间接的信息"
   ]
  },
  {
   "cell_type": "markdown",
   "metadata": {},
   "source": [
    "答：  \n",
    "1.1 根据四个表的字段信息，可以直接得出的信息是：  \n",
    "- 表一可得出本店注册会员的年龄比例，性别比例；  \n",
    "- 表二可得出近几年该店的销售量与销售收入在时间序列上的趋势，以及本店各商品的受欢迎程度；  \n",
    "- 表三可得出会员的消费习惯，包括消费时间，重复购买的商品，单次购买量与购买额；  \n",
    "- 表四可得出该店销售商品的真实利润。    \n",
    "\n",
    "1.2 通过结合4个表的信息，可以间接得出：  \n",
    "\n",
    "- 本店会员，他店会员，非会员的行为模式差别，比如购买产品类别的习惯，购买时间的差异，单次购买额的差异；  \n",
    "- 对比人均消费收入与消费利润的时间序列趋势与周期；  \n",
    "- 通过统计商品的销售量优化存货机制；  \n",
    "- 通过消费者消费的时间周期和趋势进行淡季促销及宣传；  \n",
    "- 通过统计退货情况，发现退货集中在哪些商品、哪些会员以及哪些时间，寻找规律，进而降低退货率；  \n",
    "- 统计赠品对会员消费情况的影响、退货对会员消费情况的影响。"
   ]
  },
  {
   "cell_type": "markdown",
   "metadata": {},
   "source": [
    "### 问题2：统计该商场的总销售额，以及按年度，月度统计销售额。分析销售额的变化是否有周期性。"
   ]
  },
  {
   "cell_type": "code",
   "execution_count": 5,
   "metadata": {},
   "outputs": [
    {
     "name": "stdout",
     "output_type": "stream",
     "text": [
      "商店总销售额为：130411.2721万元\n",
      "2016销售额为：72880.181万元\n",
      "2016销售额为：57531.0911万元\n"
     ]
    }
   ],
   "source": [
    "# 使用表二的数据\n",
    "raw_data_sale_flow_tmp = raw_data_sale_flow.copy()[['dtime','je']]\n",
    "# 将时间列转为时间格式\n",
    "raw_data_sale_flow_tmp['dtime'] = pd.to_datetime(raw_data_sale_flow_tmp['dtime'],format='%Y/%m/%d %H:%M',errors='coerce') # format指示原始数据的格式，error将非时间转化为nat\n",
    "# 将时间作为索引\n",
    "raw_data_sale_flow_tmp = raw_data_sale_flow_tmp.set_index('dtime')\n",
    "# 求总销售额\n",
    "total_je = (raw_data_sale_flow_tmp.sum().values/10000).round(4)[0]\n",
    "print(f'商店总销售额为：{total_je}万元')\n",
    "# 求月度销售额\n",
    "raw_data_sale_flow_je_m = raw_data_sale_flow_tmp.resample('M').sum()\n",
    "raw_data_sale_flow_je_m['je'] = (raw_data_sale_flow_je_m['je'].values/10000).round(4)\n",
    "# 求季度销售额\n",
    "raw_data_sale_flow_je_q = raw_data_sale_flow_tmp.resample('Q').sum()\n",
    "raw_data_sale_flow_je_q['je'] = (raw_data_sale_flow_je_q['je'].values/10000).round(4)\n",
    "# 求自然月的销售总额\n",
    "raw_data_sale_flow_je_m_sum = raw_data_sale_flow_je_m.copy()\n",
    "raw_data_sale_flow_je_m_sum['dtime'] = raw_data_sale_flow_je_m_sum.index\n",
    "raw_data_sale_flow_je_m_sum['year'] = raw_data_sale_flow_je_m_sum['dtime'].dt.year\n",
    "raw_data_sale_flow_je_m_sum['month'] = raw_data_sale_flow_je_m_sum['dtime'].dt.month\n",
    "raw_data_sale_flow_je_m_sum.set_index('dtime',inplace=True)\n",
    "raw_data_sale_flow_je_m_sum = raw_data_sale_flow_je_m_sum.groupby(['month']).sum()['je'].to_frame()\n",
    "# 求自然月的销售均额\n",
    "raw_data_sale_flow_je_m_mean = raw_data_sale_flow_je_m.copy()\n",
    "raw_data_sale_flow_je_m_mean['dtime'] = raw_data_sale_flow_je_m_mean.index\n",
    "raw_data_sale_flow_je_m_mean['year'] = raw_data_sale_flow_je_m_mean['dtime'].dt.year\n",
    "raw_data_sale_flow_je_m_mean['month'] = raw_data_sale_flow_je_m_mean['dtime'].dt.month\n",
    "raw_data_sale_flow_je_m_mean.set_index('dtime',inplace=True)\n",
    "raw_data_sale_flow_je_m_mean = raw_data_sale_flow_je_m_mean.groupby(['month']).mean()['je'].to_frame()\n",
    "# 求年度销售额\n",
    "raw_data_sale_flow_je_y = raw_data_sale_flow_tmp.resample('Y').sum()\n",
    "raw_data_sale_flow_je_y['je'] = (raw_data_sale_flow_je_y['je'].values/10000).round(4)\n",
    "print(f'2016销售额为：{raw_data_sale_flow_je_y.iloc[0,:].values[0]}万元')\n",
    "print(f'2016销售额为：{raw_data_sale_flow_je_y.iloc[1,:].values[0]}万元')"
   ]
  },
  {
   "cell_type": "markdown",
   "metadata": {},
   "source": [
    "plt.style.use(\"ggplot\")"
   ]
  },
  {
   "cell_type": "code",
   "execution_count": 6,
   "metadata": {},
   "outputs": [
    {
     "data": {
      "image/png": "[encoded data removed]",
      "text/plain": [
       "<Figure size 432x288 with 1 Axes>"
      ]
     },
     "metadata": {
      "needs_background": "light"
     },
     "output_type": "display_data"
    }
   ],
   "source": [
    "# 画时间序列上的月度直方图\n",
    "xlab = list(map(str,raw_data_sale_flow_je_m.index.values))\n",
    "xlab = [i[:10] for i in xlab]\n",
    "sns.barplot(x=xlab,y=raw_data_sale_flow_je_m['je'].values)\n",
    "#plt.bar(x=xlab,height=raw_data_sale_flow_je_m['je'].values,color='rgb')\n",
    "plt.ylabel('销售额')# fontsize\n",
    "plt.xlabel('时间')\n",
    "plt.title('')\n",
    "plt.xticks(rotation=320,fontsize=12)  # x周字体旋转\n",
    "plt.show()"
   ]
  },
  {
   "cell_type": "code",
   "execution_count": 7,
   "metadata": {},
   "outputs": [
    {
     "data": {
      "image/png": "[encoded data removed]",
      "text/plain": [
       "<Figure size 432x288 with 1 Axes>"
      ]
     },
     "metadata": {
      "needs_background": "light"
     },
     "output_type": "display_data"
    }
   ],
   "source": [
    "# 将两年的数据按自然月分组画直方图\n",
    "#sns.set_style('whitegrid') \n",
    "sns.barplot(x=raw_data_sale_flow_je_m_mean.index.values,y=raw_data_sale_flow_je_m_mean['je'].values)\n",
    "#plt.bar(x=raw_data_sale_flow_je_m_mean.index.values,height=raw_data_sale_flow_je_m_mean['je'].values,color='rgb')\n",
    "plt.ylabel('销售额')# fontsize\n",
    "plt.xlabel('时间')\n",
    "plt.title('')\n",
    "plt.show()"
   ]
  },
  {
   "cell_type": "markdown",
   "metadata": {},
   "source": [
    "答： 从上图可以看出，销售额有明显的规律:\n",
    "1. 销售额前6的月份为11,1,3,8,5,9；\n",
    "- 11月由于双十一的原因是12个月中销售额最高的月份，超过其他月份均额的近30%；\n",
    "- 1月份由于春节的原因略低于11月；\n",
    "- 3月份由于换季，农历新年后密集开班，销售额明显高于2月份和4月份；\n",
    "- 5月份由于五一小长假促销活动再次出现小高潮；\n",
    "- 8月份与9月份是暑期与开学季，人们购物的时间比6、7月份增加，家长学生置办开学用品"
   ]
  },
  {
   "cell_type": "code",
   "execution_count": 8,
   "metadata": {},
   "outputs": [
    {
     "data": {
      "image/png": "[encoded data removed]",
      "text/plain": [
       "<Figure size 432x288 with 1 Axes>"
      ]
     },
     "metadata": {
      "needs_background": "light"
     },
     "output_type": "display_data"
    }
   ],
   "source": [
    "# 画季度直方图\n",
    "xlab = list(map(str,raw_data_sale_flow_je_q.index.values))\n",
    "xlab = [i[:10] for i in xlab]\n",
    "sns.barplot(x=xlab,y=raw_data_sale_flow_je_q['je'].values)\n",
    "#plt.bar(x=xlab,height=raw_data_sale_flow_je_q['je'].values,color='rgb')\n",
    "plt.ylabel('销售额')# fontsize\n",
    "plt.xlabel('时间')\n",
    "plt.title('')\n",
    "plt.xticks(rotation=320,fontsize=12)  # x周字体旋转\n",
    "plt.show()"
   ]
  },
  {
   "cell_type": "markdown",
   "metadata": {},
   "source": [
    "答： 从上图可以看出，2017年各个季度的销售额数据整体优于16年；结合月度数据，17年9月的数据相比于16年有下滑,是因为表2数据2017年只记录到9月9号"
   ]
  },
  {
   "cell_type": "markdown",
   "metadata": {},
   "source": [
    "### 问题3：该店有效会员的性别，年龄，及注册时间情况分析。请自行理解“有效会员”的描述，并给出说明"
   ]
  },
  {
   "cell_type": "code",
   "execution_count": 9,
   "metadata": {},
   "outputs": [],
   "source": [
    "merge_1and3_left = pd.merge(raw_data_vip_info,raw_data_sale_detail_vip,on=['kh'],how='left')# 以表一作为左表进行左连接\n",
    "# 以会员号为主键进行groupby\n",
    "groupby_1and3 = merge_1and3_left.groupby(by=['kh']).count()['csny'].to_frame()              # 求消费次数\n",
    "groupby_1and3.columns = ['count']\n",
    "groupby_1and3['zje'] = merge_1and3_left.groupby(by=['kh']).sum()['je'].to_frame()           # 求消费总金额\n",
    "groupby_1and3.sort_values(by=['zje','count'],ascending=False,inplace=True)                  # 排序\n",
    "groupby_1and3['kh'] = groupby_1and3.index"
   ]
  },
  {
   "cell_type": "code",
   "execution_count": 10,
   "metadata": {},
   "outputs": [
    {
     "data": {
      "text/html": [
       "<div>\n",
       "<style scoped>\n",
       "    .dataframe tbody tr th:only-of-type {\n",
       "        vertical-align: middle;\n",
       "    }\n",
       "\n",
       "    .dataframe tbody tr th {\n",
       "        vertical-align: top;\n",
       "    }\n",
       "\n",
       "    .dataframe thead th {\n",
       "        text-align: right;\n",
       "    }\n",
       "</style>\n",
       "<table border=\"1\" class=\"dataframe\">\n",
       "  <thead>\n",
       "    <tr style=\"text-align: right;\">\n",
       "      <th></th>\n",
       "      <th>count</th>\n",
       "      <th>zje</th>\n",
       "      <th>kh</th>\n",
       "      <th>csny</th>\n",
       "      <th>xb</th>\n",
       "      <th>djsj</th>\n",
       "      <th>je_per_count</th>\n",
       "      <th>age</th>\n",
       "    </tr>\n",
       "  </thead>\n",
       "  <tbody>\n",
       "    <tr>\n",
       "      <th>0</th>\n",
       "      <td>3303</td>\n",
       "      <td>3501632.57</td>\n",
       "      <td>7ff6682d</td>\n",
       "      <td>1962-04-21</td>\n",
       "      <td>0.0</td>\n",
       "      <td>2017-09-20</td>\n",
       "      <td>1060.137018</td>\n",
       "      <td>55.0</td>\n",
       "    </tr>\n",
       "    <tr>\n",
       "      <th>1</th>\n",
       "      <td>566</td>\n",
       "      <td>1745266.53</td>\n",
       "      <td>88683d5e</td>\n",
       "      <td>1973-03-13</td>\n",
       "      <td>0.0</td>\n",
       "      <td>2015-07-11</td>\n",
       "      <td>3083.509770</td>\n",
       "      <td>42.0</td>\n",
       "    </tr>\n",
       "    <tr>\n",
       "      <th>2</th>\n",
       "      <td>793</td>\n",
       "      <td>1519175.76</td>\n",
       "      <td>f70ee502</td>\n",
       "      <td>1968-08-30</td>\n",
       "      <td>0.0</td>\n",
       "      <td>2017-05-20</td>\n",
       "      <td>1915.732358</td>\n",
       "      <td>49.0</td>\n",
       "    </tr>\n",
       "    <tr>\n",
       "      <th>3</th>\n",
       "      <td>478</td>\n",
       "      <td>1412945.40</td>\n",
       "      <td>b4a613c0</td>\n",
       "      <td>1970-04-01</td>\n",
       "      <td>0.0</td>\n",
       "      <td>2015-03-04</td>\n",
       "      <td>2955.952720</td>\n",
       "      <td>45.0</td>\n",
       "    </tr>\n",
       "    <tr>\n",
       "      <th>4</th>\n",
       "      <td>608</td>\n",
       "      <td>1342693.10</td>\n",
       "      <td>4ef68d51</td>\n",
       "      <td>1976-12-28</td>\n",
       "      <td>0.0</td>\n",
       "      <td>NaT</td>\n",
       "      <td>2208.376809</td>\n",
       "      <td>NaN</td>\n",
       "    </tr>\n",
       "  </tbody>\n",
       "</table>\n",
       "</div>"
      ],
      "text/plain": [
       "   count         zje        kh       csny   xb       djsj  je_per_count   age\n",
       "0   3303  3501632.57  7ff6682d 1962-04-21  0.0 2017-09-20   1060.137018  55.0\n",
       "1    566  1745266.53  88683d5e 1973-03-13  0.0 2015-07-11   3083.509770  42.0\n",
       "2    793  1519175.76  f70ee502 1968-08-30  0.0 2017-05-20   1915.732358  49.0\n",
       "3    478  1412945.40  b4a613c0 1970-04-01  0.0 2015-03-04   2955.952720  45.0\n",
       "4    608  1342693.10  4ef68d51 1976-12-28  0.0        NaT   2208.376809   NaN"
      ]
     },
     "execution_count": 10,
     "metadata": {},
     "output_type": "execute_result"
    }
   ],
   "source": [
    "# 再次与表1连接，获取各个会员的性别等信息\n",
    "groupby_1and3 = pd.merge(groupby_1and3,raw_data_vip_info,on=['kh'],how='left')\n",
    "#groupby_1and3.head()\n",
    "groupby_1and3['je_per_count'] = groupby_1and3['zje'] / groupby_1and3['count']\n",
    "groupby_1and3.replace(np.inf,0,inplace=True)\n",
    "groupby_1and3['csny'] = pd.to_datetime(groupby_1and3['csny'],errors='coerce')\n",
    "groupby_1and3['djsj'] = pd.to_datetime(groupby_1and3['djsj'],errors='coerce')\n",
    "groupby_1and3['age'] = (groupby_1and3['djsj'] - groupby_1and3['csny']).dt.days\n",
    "groupby_1and3['age'] = (groupby_1and3['age'] / 365).round(0)\n",
    "#groupby_1and3['xb'] = groupby_1and3['xb'].astype(int)\n",
    "groupby_1and3.head()"
   ]
  },
  {
   "cell_type": "code",
   "execution_count": 11,
   "metadata": {},
   "outputs": [],
   "source": [
    "# 输出报告\n",
    "# data_groupby_1and3_report = pdp.ProfileReport(groupby_1and3)\n",
    "# data_groupby_1and3_report.to_file(os.path.join(data_path,'data_groupby_1and3_report.html'))"
   ]
  },
  {
   "cell_type": "markdown",
   "metadata": {},
   "source": [
    "#### 识别有效会员"
   ]
  },
  {
   "cell_type": "markdown",
   "metadata": {},
   "source": [
    "有效会员满足的条件：  \n",
    "- **信息有效准确**：删除注册时间月出生年月有问题的会员\n",
    "- **产生有效交易**：删除总交易额不大于500的会员"
   ]
  },
  {
   "cell_type": "markdown",
   "metadata": {},
   "source": [
    "##### 异常值处理"
   ]
  },
  {
   "cell_type": "markdown",
   "metadata": {},
   "source": [
    "出生年为1750的必定是出现了错误，这里有两种处理方法1）假定其为1950；2）删除  \n",
    "同理，注册时间也有异常值"
   ]
  },
  {
   "cell_type": "code",
   "execution_count": 12,
   "metadata": {},
   "outputs": [
    {
     "data": {
      "text/html": [
       "<div>\n",
       "<style scoped>\n",
       "    .dataframe tbody tr th:only-of-type {\n",
       "        vertical-align: middle;\n",
       "    }\n",
       "\n",
       "    .dataframe tbody tr th {\n",
       "        vertical-align: top;\n",
       "    }\n",
       "\n",
       "    .dataframe thead th {\n",
       "        text-align: right;\n",
       "    }\n",
       "</style>\n",
       "<table border=\"1\" class=\"dataframe\">\n",
       "  <thead>\n",
       "    <tr style=\"text-align: right;\">\n",
       "      <th></th>\n",
       "      <th>count</th>\n",
       "      <th>zje</th>\n",
       "      <th>xb</th>\n",
       "      <th>je_per_count</th>\n",
       "      <th>age</th>\n",
       "    </tr>\n",
       "  </thead>\n",
       "  <tbody>\n",
       "    <tr>\n",
       "      <th>count</th>\n",
       "      <td>44731.000000</td>\n",
       "      <td>4.473100e+04</td>\n",
       "      <td>43717.000000</td>\n",
       "      <td>44731.000000</td>\n",
       "      <td>38905.000000</td>\n",
       "    </tr>\n",
       "    <tr>\n",
       "      <th>mean</th>\n",
       "      <td>11.470725</td>\n",
       "      <td>1.619141e+04</td>\n",
       "      <td>0.103209</td>\n",
       "      <td>1544.291473</td>\n",
       "      <td>85.692893</td>\n",
       "    </tr>\n",
       "    <tr>\n",
       "      <th>std</th>\n",
       "      <td>30.749015</td>\n",
       "      <td>4.688576e+04</td>\n",
       "      <td>0.304236</td>\n",
       "      <td>3046.514333</td>\n",
       "      <td>94.403293</td>\n",
       "    </tr>\n",
       "    <tr>\n",
       "      <th>min</th>\n",
       "      <td>0.000000</td>\n",
       "      <td>5.010000e+02</td>\n",
       "      <td>0.000000</td>\n",
       "      <td>0.000000</td>\n",
       "      <td>-3.000000</td>\n",
       "    </tr>\n",
       "    <tr>\n",
       "      <th>25%</th>\n",
       "      <td>1.000000</td>\n",
       "      <td>1.934850e+03</td>\n",
       "      <td>0.000000</td>\n",
       "      <td>496.105556</td>\n",
       "      <td>30.000000</td>\n",
       "    </tr>\n",
       "    <tr>\n",
       "      <th>50%</th>\n",
       "      <td>4.000000</td>\n",
       "      <td>4.808000e+03</td>\n",
       "      <td>0.000000</td>\n",
       "      <td>903.300000</td>\n",
       "      <td>40.000000</td>\n",
       "    </tr>\n",
       "    <tr>\n",
       "      <th>75%</th>\n",
       "      <td>10.000000</td>\n",
       "      <td>1.350000e+04</td>\n",
       "      <td>0.000000</td>\n",
       "      <td>1690.400000</td>\n",
       "      <td>54.000000</td>\n",
       "    </tr>\n",
       "    <tr>\n",
       "      <th>max</th>\n",
       "      <td>3303.000000</td>\n",
       "      <td>3.501633e+06</td>\n",
       "      <td>1.000000</td>\n",
       "      <td>154515.000000</td>\n",
       "      <td>265.000000</td>\n",
       "    </tr>\n",
       "  </tbody>\n",
       "</table>\n",
       "</div>"
      ],
      "text/plain": [
       "              count           zje            xb   je_per_count           age\n",
       "count  44731.000000  4.473100e+04  43717.000000   44731.000000  38905.000000\n",
       "mean      11.470725  1.619141e+04      0.103209    1544.291473     85.692893\n",
       "std       30.749015  4.688576e+04      0.304236    3046.514333     94.403293\n",
       "min        0.000000  5.010000e+02      0.000000       0.000000     -3.000000\n",
       "25%        1.000000  1.934850e+03      0.000000     496.105556     30.000000\n",
       "50%        4.000000  4.808000e+03      0.000000     903.300000     40.000000\n",
       "75%       10.000000  1.350000e+04      0.000000    1690.400000     54.000000\n",
       "max     3303.000000  3.501633e+06      1.000000  154515.000000    265.000000"
      ]
     },
     "execution_count": 12,
     "metadata": {},
     "output_type": "execute_result"
    }
   ],
   "source": [
    "# 去除总消费金额小于0的会员\n",
    "groupby_1and3_postive = groupby_1and3[groupby_1and3['zje']>500]\n",
    "groupby_1and3_postive.sort_values(by='zje',ascending=False,inplace=True)\n",
    "groupby_1and3_postive.describe()"
   ]
  },
  {
   "cell_type": "markdown",
   "metadata": {},
   "source": [
    "##### *删除总金额不为正的会员，会员数目从194761降至48682，减少了75%，但数据仍然严重右偏，进一步删除总金额不超过500的会员，人数变为44731*"
   ]
  },
  {
   "cell_type": "code",
   "execution_count": 13,
   "metadata": {},
   "outputs": [
    {
     "data": {
      "text/html": [
       "<div>\n",
       "<style scoped>\n",
       "    .dataframe tbody tr th:only-of-type {\n",
       "        vertical-align: middle;\n",
       "    }\n",
       "\n",
       "    .dataframe tbody tr th {\n",
       "        vertical-align: top;\n",
       "    }\n",
       "\n",
       "    .dataframe thead th {\n",
       "        text-align: right;\n",
       "    }\n",
       "</style>\n",
       "<table border=\"1\" class=\"dataframe\">\n",
       "  <thead>\n",
       "    <tr style=\"text-align: right;\">\n",
       "      <th></th>\n",
       "      <th>count</th>\n",
       "      <th>zje</th>\n",
       "      <th>xb</th>\n",
       "      <th>je_per_count</th>\n",
       "      <th>age</th>\n",
       "    </tr>\n",
       "  </thead>\n",
       "  <tbody>\n",
       "    <tr>\n",
       "      <th>count</th>\n",
       "      <td>30270.000000</td>\n",
       "      <td>3.027000e+04</td>\n",
       "      <td>30117.000000</td>\n",
       "      <td>30270.000000</td>\n",
       "      <td>30270.000000</td>\n",
       "    </tr>\n",
       "    <tr>\n",
       "      <th>mean</th>\n",
       "      <td>14.691411</td>\n",
       "      <td>1.992515e+04</td>\n",
       "      <td>0.140618</td>\n",
       "      <td>1683.934891</td>\n",
       "      <td>36.390420</td>\n",
       "    </tr>\n",
       "    <tr>\n",
       "      <th>std</th>\n",
       "      <td>35.526938</td>\n",
       "      <td>5.389764e+04</td>\n",
       "      <td>0.347633</td>\n",
       "      <td>3073.981130</td>\n",
       "      <td>9.617296</td>\n",
       "    </tr>\n",
       "    <tr>\n",
       "      <th>min</th>\n",
       "      <td>1.000000</td>\n",
       "      <td>5.010000e+02</td>\n",
       "      <td>0.000000</td>\n",
       "      <td>42.784615</td>\n",
       "      <td>1.000000</td>\n",
       "    </tr>\n",
       "    <tr>\n",
       "      <th>25%</th>\n",
       "      <td>2.000000</td>\n",
       "      <td>2.340000e+03</td>\n",
       "      <td>0.000000</td>\n",
       "      <td>624.327381</td>\n",
       "      <td>29.000000</td>\n",
       "    </tr>\n",
       "    <tr>\n",
       "      <th>50%</th>\n",
       "      <td>6.000000</td>\n",
       "      <td>6.065000e+03</td>\n",
       "      <td>0.000000</td>\n",
       "      <td>1061.264010</td>\n",
       "      <td>36.000000</td>\n",
       "    </tr>\n",
       "    <tr>\n",
       "      <th>75%</th>\n",
       "      <td>14.000000</td>\n",
       "      <td>1.724495e+04</td>\n",
       "      <td>0.000000</td>\n",
       "      <td>1835.000000</td>\n",
       "      <td>43.000000</td>\n",
       "    </tr>\n",
       "    <tr>\n",
       "      <th>max</th>\n",
       "      <td>3303.000000</td>\n",
       "      <td>3.501633e+06</td>\n",
       "      <td>1.000000</td>\n",
       "      <td>154515.000000</td>\n",
       "      <td>95.000000</td>\n",
       "    </tr>\n",
       "  </tbody>\n",
       "</table>\n",
       "</div>"
      ],
      "text/plain": [
       "              count           zje            xb   je_per_count           age\n",
       "count  30270.000000  3.027000e+04  30117.000000   30270.000000  30270.000000\n",
       "mean      14.691411  1.992515e+04      0.140618    1683.934891     36.390420\n",
       "std       35.526938  5.389764e+04      0.347633    3073.981130      9.617296\n",
       "min        1.000000  5.010000e+02      0.000000      42.784615      1.000000\n",
       "25%        2.000000  2.340000e+03      0.000000     624.327381     29.000000\n",
       "50%        6.000000  6.065000e+03      0.000000    1061.264010     36.000000\n",
       "75%       14.000000  1.724495e+04      0.000000    1835.000000     43.000000\n",
       "max     3303.000000  3.501633e+06      1.000000  154515.000000     95.000000"
      ]
     },
     "execution_count": 13,
     "metadata": {},
     "output_type": "execute_result"
    }
   ],
   "source": [
    "# 删除异常年龄的数据\n",
    "groupby_1and3_postive = groupby_1and3_postive[groupby_1and3['age']<=100]\n",
    "groupby_1and3_postive = groupby_1and3_postive[groupby_1and3['age']>0]\n",
    "groupby_1and3_postive.describe()"
   ]
  },
  {
   "cell_type": "code",
   "execution_count": 14,
   "metadata": {},
   "outputs": [
    {
     "data": {
      "image/png": "[encoded data removed]",
      "text/plain": [
       "<Figure size 1440x720 with 6 Axes>"
      ]
     },
     "metadata": {
      "needs_background": "light"
     },
     "output_type": "display_data"
    }
   ],
   "source": [
    "#groupby_1and3_postive.loc[10000:,:].hist()\n",
    "hist_ = groupby_1and3_postive.loc[10000:,:].hist(bins=10,figsize=(20,10))"
   ]
  },
  {
   "cell_type": "code",
   "execution_count": 15,
   "metadata": {},
   "outputs": [
    {
     "data": {
      "image/png": "[encoded data removed]",
      "text/plain": [
       "<Figure size 640x480 with 1 Axes>"
      ]
     },
     "metadata": {
      "needs_background": "light"
     },
     "output_type": "display_data"
    }
   ],
   "source": [
    "plot_line(groupby_1and3_postive.loc[100:,:],columns_=['je_per_count','zje'],legend_=['总消费额','均消费额'],title_='总金额')"
   ]
  },
  {
   "cell_type": "code",
   "execution_count": 16,
   "metadata": {},
   "outputs": [],
   "source": [
    "#raw_data_sale_detail_vip[raw_data_sale_detail_vip['kh']=='7ff6682d']"
   ]
  },
  {
   "cell_type": "code",
   "execution_count": 17,
   "metadata": {},
   "outputs": [],
   "source": [
    "describe_vip = groupby_1and3_postive.describe()[['age','xb']].T"
   ]
  },
  {
   "cell_type": "code",
   "execution_count": 18,
   "metadata": {},
   "outputs": [
    {
     "name": "stdout",
     "output_type": "stream",
     "text": [
      "有效会员的平均年龄为:36.0\n",
      "有效会员的女性占比为:85.94%\n"
     ]
    }
   ],
   "source": [
    "print(f\"有效会员的平均年龄为:{describe_vip.loc['age','mean'].round(0)}\")\n",
    "print(f\"有效会员的女性占比为:{((1-describe_vip.loc['xb','mean'])*100).round(2)}%\")"
   ]
  },
  {
   "cell_type": "markdown",
   "metadata": {},
   "source": [
    "plot_line(raw_data_sale_flow_je_m,['je'])"
   ]
  }
 ],
 "metadata": {
  "kernelspec": {
   "display_name": "Python 3",
   "language": "python",
   "name": "python3"
  },
  "language_info": {
   "codemirror_mode": {
    "name": "ipython",
    "version": 3
   },
   "file_extension": ".py",
   "mimetype": "text/x-python",
   "name": "python",
   "nbconvert_exporter": "python",
   "pygments_lexer": "ipython3",
   "version": "3.7.1"
  }
 },
 "nbformat": 4,
 "nbformat_minor": 2
}
